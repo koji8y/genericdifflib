{
 "cells": [
  {
   "cell_type": "code",
   "execution_count": 1,
   "metadata": {},
   "outputs": [],
   "source": [
    "import gdifflib"
   ]
  },
  {
   "cell_type": "code",
   "execution_count": 2,
   "metadata": {},
   "outputs": [
    {
     "data": {
      "text/plain": [
       "[[Equal]a,a,\n",
       " [Delete]b,\n",
       " [Equal]c,c,\n",
       " [Delete]d,\n",
       " [Equal]e,e,\n",
       " [Delete]x,\n",
       " [Insert]y]"
      ]
     },
     "execution_count": 2,
     "metadata": {},
     "output_type": "execute_result"
    }
   ],
   "source": [
    "list(gdifflib.Differ().compare(\"abcdex\", \"acey\"))"
   ]
  },
  {
   "cell_type": "code",
   "execution_count": 3,
   "metadata": {},
   "outputs": [],
   "source": [
    "class A:\n",
    "    def __init__(self, x: int, y: int):\n",
    "        self.x = x\n",
    "        self.y = y\n",
    "    def __repr__(self) -> str:\n",
    "        return 'A({},{})'.format(self.x, self.y)\n",
    "    def __eq__(self, other) -> bool:\n",
    "        return self.y == other.y\n",
    "    def __hash__(self) -> int:\n",
    "        return hash(self.y)"
   ]
  },
  {
   "cell_type": "code",
   "execution_count": 4,
   "metadata": {},
   "outputs": [
    {
     "data": {
      "text/plain": [
       "[[Equal]A(1,1),A(10,1), [Insert]A(20,2), [Equal]A(3,3),A(30,3), [Delete]A(4,4)]"
      ]
     },
     "execution_count": 4,
     "metadata": {},
     "output_type": "execute_result"
    }
   ],
   "source": [
    "l1 = [A(1,1), A(3,3), A(4,4)]\n",
    "l2 = [A(10,1), A(20,2), A(30,3)]\n",
    "list(gdifflib.Differ().compare(l1, l2))"
   ]
  },
  {
   "cell_type": "code",
   "execution_count": null,
   "metadata": {},
   "outputs": [],
   "source": []
  }
 ],
 "metadata": {
  "kernelspec": {
   "display_name": "Python 3",
   "language": "python",
   "name": "python3"
  },
  "language_info": {
   "codemirror_mode": {
    "name": "ipython",
    "version": 3
   },
   "file_extension": ".py",
   "mimetype": "text/x-python",
   "name": "python",
   "nbconvert_exporter": "python",
   "pygments_lexer": "ipython3",
   "version": "3.7.6"
  }
 },
 "nbformat": 4,
 "nbformat_minor": 2
}
