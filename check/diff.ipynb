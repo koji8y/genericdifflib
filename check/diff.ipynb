{
 "cells": [
  {
   "cell_type": "code",
   "execution_count": 1,
   "metadata": {},
   "outputs": [],
   "source": [
    "import gdifflib"
   ]
  },
  {
   "cell_type": "code",
   "execution_count": 2,
   "metadata": {},
   "outputs": [
    {
     "data": {
      "text/plain": [
       "[[Equal]a, [Delete]b, [Equal]c, [Delete]d, [Equal]e, [Delete]x, [Insert]y]"
      ]
     },
     "execution_count": 2,
     "metadata": {},
     "output_type": "execute_result"
    }
   ],
   "source": [
    "list(gdifflib.Differ().compare(\"abcdex\", \"acey\"))"
   ]
  },
  {
   "cell_type": "code",
   "execution_count": 3,
   "metadata": {},
   "outputs": [],
   "source": [
    "class A:\n",
    "    def __init__(self, x: int, y: int):\n",
    "        self.x = x\n",
    "        self.y = y\n",
    "    def __str__(self) -> str:\n",
    "        return str(self.y)"
   ]
  },
  {
   "cell_type": "code",
   "execution_count": 5,
   "metadata": {},
   "outputs": [
    {
     "ename": "TypeError",
     "evalue": "lines to compare must be str, not A (<__main__.A object at 0x1127dc350>)",
     "output_type": "error",
     "traceback": [
      "\u001b[0;31m---------------------------------------------------------------------------\u001b[0m",
      "\u001b[0;31mTypeError\u001b[0m                                 Traceback (most recent call last)",
      "\u001b[0;32m<ipython-input-5-c84a90b20c50>\u001b[0m in \u001b[0;36m<module>\u001b[0;34m\u001b[0m\n\u001b[1;32m      1\u001b[0m \u001b[0ml1\u001b[0m \u001b[0;34m=\u001b[0m \u001b[0;34m[\u001b[0m\u001b[0mA\u001b[0m\u001b[0;34m(\u001b[0m\u001b[0;36m1\u001b[0m\u001b[0;34m,\u001b[0m\u001b[0;36m1\u001b[0m\u001b[0;34m)\u001b[0m\u001b[0;34m,\u001b[0m \u001b[0mA\u001b[0m\u001b[0;34m(\u001b[0m\u001b[0;36m3\u001b[0m\u001b[0;34m,\u001b[0m\u001b[0;36m3\u001b[0m\u001b[0;34m)\u001b[0m\u001b[0;34m]\u001b[0m\u001b[0;34m\u001b[0m\u001b[0;34m\u001b[0m\u001b[0m\n\u001b[1;32m      2\u001b[0m \u001b[0ml2\u001b[0m \u001b[0;34m=\u001b[0m \u001b[0;34m[\u001b[0m\u001b[0mA\u001b[0m\u001b[0;34m(\u001b[0m\u001b[0;36m10\u001b[0m\u001b[0;34m,\u001b[0m\u001b[0;36m1\u001b[0m\u001b[0;34m)\u001b[0m\u001b[0;34m,\u001b[0m \u001b[0mA\u001b[0m\u001b[0;34m(\u001b[0m\u001b[0;36m20\u001b[0m\u001b[0;34m,\u001b[0m\u001b[0;36m2\u001b[0m\u001b[0;34m)\u001b[0m\u001b[0;34m,\u001b[0m \u001b[0mA\u001b[0m\u001b[0;34m(\u001b[0m\u001b[0;36m30\u001b[0m\u001b[0;34m,\u001b[0m\u001b[0;36m3\u001b[0m\u001b[0;34m)\u001b[0m\u001b[0;34m]\u001b[0m\u001b[0;34m\u001b[0m\u001b[0;34m\u001b[0m\u001b[0m\n\u001b[0;32m----> 3\u001b[0;31m \u001b[0mlist\u001b[0m\u001b[0;34m(\u001b[0m\u001b[0mdifflib\u001b[0m\u001b[0;34m.\u001b[0m\u001b[0munified_diff\u001b[0m\u001b[0;34m(\u001b[0m\u001b[0ml1\u001b[0m\u001b[0;34m,\u001b[0m \u001b[0ml2\u001b[0m\u001b[0;34m)\u001b[0m\u001b[0;34m)\u001b[0m\u001b[0;34m\u001b[0m\u001b[0;34m\u001b[0m\u001b[0m\n\u001b[0m",
      "\u001b[0;32m/usr/local/opt/python/Frameworks/Python.framework/Versions/3.7/lib/python3.7/difflib.py\u001b[0m in \u001b[0;36munified_diff\u001b[0;34m(a, b, fromfile, tofile, fromfiledate, tofiledate, n, lineterm)\u001b[0m\n\u001b[1;32m   1175\u001b[0m     \"\"\"\n\u001b[1;32m   1176\u001b[0m \u001b[0;34m\u001b[0m\u001b[0m\n\u001b[0;32m-> 1177\u001b[0;31m     \u001b[0m_check_types\u001b[0m\u001b[0;34m(\u001b[0m\u001b[0ma\u001b[0m\u001b[0;34m,\u001b[0m \u001b[0mb\u001b[0m\u001b[0;34m,\u001b[0m \u001b[0mfromfile\u001b[0m\u001b[0;34m,\u001b[0m \u001b[0mtofile\u001b[0m\u001b[0;34m,\u001b[0m \u001b[0mfromfiledate\u001b[0m\u001b[0;34m,\u001b[0m \u001b[0mtofiledate\u001b[0m\u001b[0;34m,\u001b[0m \u001b[0mlineterm\u001b[0m\u001b[0;34m)\u001b[0m\u001b[0;34m\u001b[0m\u001b[0;34m\u001b[0m\u001b[0m\n\u001b[0m\u001b[1;32m   1178\u001b[0m     \u001b[0mstarted\u001b[0m \u001b[0;34m=\u001b[0m \u001b[0;32mFalse\u001b[0m\u001b[0;34m\u001b[0m\u001b[0;34m\u001b[0m\u001b[0m\n\u001b[1;32m   1179\u001b[0m     \u001b[0;32mfor\u001b[0m \u001b[0mgroup\u001b[0m \u001b[0;32min\u001b[0m \u001b[0mSequenceMatcher\u001b[0m\u001b[0;34m(\u001b[0m\u001b[0;32mNone\u001b[0m\u001b[0;34m,\u001b[0m\u001b[0ma\u001b[0m\u001b[0;34m,\u001b[0m\u001b[0mb\u001b[0m\u001b[0;34m)\u001b[0m\u001b[0;34m.\u001b[0m\u001b[0mget_grouped_opcodes\u001b[0m\u001b[0;34m(\u001b[0m\u001b[0mn\u001b[0m\u001b[0;34m)\u001b[0m\u001b[0;34m:\u001b[0m\u001b[0;34m\u001b[0m\u001b[0;34m\u001b[0m\u001b[0m\n",
      "\u001b[0;32m/usr/local/opt/python/Frameworks/Python.framework/Versions/3.7/lib/python3.7/difflib.py\u001b[0m in \u001b[0;36m_check_types\u001b[0;34m(a, b, *args)\u001b[0m\n\u001b[1;32m   1304\u001b[0m     \u001b[0;32mif\u001b[0m \u001b[0ma\u001b[0m \u001b[0;32mand\u001b[0m \u001b[0;32mnot\u001b[0m \u001b[0misinstance\u001b[0m\u001b[0;34m(\u001b[0m\u001b[0ma\u001b[0m\u001b[0;34m[\u001b[0m\u001b[0;36m0\u001b[0m\u001b[0;34m]\u001b[0m\u001b[0;34m,\u001b[0m \u001b[0mstr\u001b[0m\u001b[0;34m)\u001b[0m\u001b[0;34m:\u001b[0m\u001b[0;34m\u001b[0m\u001b[0;34m\u001b[0m\u001b[0m\n\u001b[1;32m   1305\u001b[0m         raise TypeError('lines to compare must be str, not %s (%r)' %\n\u001b[0;32m-> 1306\u001b[0;31m                         (type(a[0]).__name__, a[0]))\n\u001b[0m\u001b[1;32m   1307\u001b[0m     \u001b[0;32mif\u001b[0m \u001b[0mb\u001b[0m \u001b[0;32mand\u001b[0m \u001b[0;32mnot\u001b[0m \u001b[0misinstance\u001b[0m\u001b[0;34m(\u001b[0m\u001b[0mb\u001b[0m\u001b[0;34m[\u001b[0m\u001b[0;36m0\u001b[0m\u001b[0;34m]\u001b[0m\u001b[0;34m,\u001b[0m \u001b[0mstr\u001b[0m\u001b[0;34m)\u001b[0m\u001b[0;34m:\u001b[0m\u001b[0;34m\u001b[0m\u001b[0;34m\u001b[0m\u001b[0m\n\u001b[1;32m   1308\u001b[0m         raise TypeError('lines to compare must be str, not %s (%r)' %\n",
      "\u001b[0;31mTypeError\u001b[0m: lines to compare must be str, not A (<__main__.A object at 0x1127dc350>)"
     ]
    }
   ],
   "source": [
    "l1 = [A(1,1), A(3,3)]\n",
    "l2 = [A(10,1), A(20,2), A(30,3)]\n",
    "list(difflib.unified_diff(l1, l2))"
   ]
  },
  {
   "cell_type": "code",
   "execution_count": 6,
   "metadata": {},
   "outputs": [
    {
     "name": "stdout",
     "output_type": "stream",
     "text": [
      "Help on function unified_diff in module difflib:\n",
      "\n",
      "unified_diff(a, b, fromfile='', tofile='', fromfiledate='', tofiledate='', n=3, lineterm='\\n')\n",
      "    Compare two sequences of lines; generate the delta as a unified diff.\n",
      "    \n",
      "    Unified diffs are a compact way of showing line changes and a few\n",
      "    lines of context.  The number of context lines is set by 'n' which\n",
      "    defaults to three.\n",
      "    \n",
      "    By default, the diff control lines (those with ---, +++, or @@) are\n",
      "    created with a trailing newline.  This is helpful so that inputs\n",
      "    created from file.readlines() result in diffs that are suitable for\n",
      "    file.writelines() since both the inputs and outputs have trailing\n",
      "    newlines.\n",
      "    \n",
      "    For inputs that do not have trailing newlines, set the lineterm\n",
      "    argument to \"\" so that the output will be uniformly newline free.\n",
      "    \n",
      "    The unidiff format normally has a header for filenames and modification\n",
      "    times.  Any or all of these may be specified using strings for\n",
      "    'fromfile', 'tofile', 'fromfiledate', and 'tofiledate'.\n",
      "    The modification times are normally expressed in the ISO 8601 format.\n",
      "    \n",
      "    Example:\n",
      "    \n",
      "    >>> for line in unified_diff('one two three four'.split(),\n",
      "    ...             'zero one tree four'.split(), 'Original', 'Current',\n",
      "    ...             '2005-01-26 23:30:50', '2010-04-02 10:20:52',\n",
      "    ...             lineterm=''):\n",
      "    ...     print(line)                 # doctest: +NORMALIZE_WHITESPACE\n",
      "    --- Original        2005-01-26 23:30:50\n",
      "    +++ Current         2010-04-02 10:20:52\n",
      "    @@ -1,4 +1,4 @@\n",
      "    +zero\n",
      "     one\n",
      "    -two\n",
      "    -three\n",
      "    +tree\n",
      "     four\n",
      "\n"
     ]
    }
   ],
   "source": [
    "help(difflib.unified_diff)"
   ]
  },
  {
   "cell_type": "code",
   "execution_count": null,
   "metadata": {},
   "outputs": [],
   "source": []
  }
 ],
 "metadata": {
  "kernelspec": {
   "display_name": "Python 3",
   "language": "python",
   "name": "python3"
  },
  "language_info": {
   "codemirror_mode": {
    "name": "ipython",
    "version": 3
   },
   "file_extension": ".py",
   "mimetype": "text/x-python",
   "name": "python",
   "nbconvert_exporter": "python",
   "pygments_lexer": "ipython3",
   "version": "3.7.6"
  }
 },
 "nbformat": 4,
 "nbformat_minor": 2
}
