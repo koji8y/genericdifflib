{
 "cells": [
  {
   "cell_type": "code",
   "execution_count": 1,
   "metadata": {},
   "outputs": [],
   "source": [
    "import gdifflib"
   ]
  },
  {
   "cell_type": "code",
   "execution_count": 2,
   "metadata": {},
   "outputs": [
    {
     "data": {
      "text/plain": [
       "[[Equal]a,a,\n",
       " [Delete]b,\n",
       " [Equal]c,c,\n",
       " [Insert]d,\n",
       " [Equal]e,e,\n",
       " [Delete]x,\n",
       " [Insert]y]"
      ]
     },
     "execution_count": 2,
     "metadata": {},
     "output_type": "execute_result"
    }
   ],
   "source": [
    "list(gdifflib.Differ().compare(\"abcex\", \"acdey\"))"
   ]
  },
  {
   "cell_type": "code",
   "execution_count": 3,
   "metadata": {},
   "outputs": [],
   "source": [
    "class A:\n",
    "    def __init__(self, n: str, y: int):\n",
    "        self.n = n\n",
    "        self.y = y\n",
    "    def __repr__(self) -> str:\n",
    "        return 'A({} {})'.format(self.n, self.y)\n",
    "    def __eq__(self, other) -> bool:\n",
    "        return self.y == other.y\n",
    "    def __hash__(self) -> int:\n",
    "        return hash(self.y)"
   ]
  },
  {
   "cell_type": "code",
   "execution_count": 4,
   "metadata": {},
   "outputs": [
    {
     "data": {
      "text/plain": [
       "[[Delete]A(foo 1), [Equal]A(bar 2),A(baz 2)]"
      ]
     },
     "execution_count": 4,
     "metadata": {},
     "output_type": "execute_result"
    }
   ],
   "source": [
    "l1 = [A('foo',1), A('bar',2)]\n",
    "l2 = [A('baz',2)]\n",
    "list(gdifflib.Differ().compare(l1, l2))"
   ]
  },
  {
   "cell_type": "code",
   "execution_count": 5,
   "metadata": {},
   "outputs": [],
   "source": [
    "class B:\n",
    "    def __init__(self, x: int, s: str, y: int):\n",
    "        self.x = x\n",
    "        self.s = s\n",
    "        self.y = y\n",
    "    def __repr__(self) -> str:\n",
    "        return 'A({}_{}_{})'.format(self.x, self.s, self.y)\n",
    "    def _significant_parts(self):\n",
    "        return (self.s, self.y)\n",
    "    def __eq__(self, other) -> bool:\n",
    "        return self._significant_parts() == other._significant_parts()\n",
    "    def __hash__(self) -> int:\n",
    "        return hash(self._significant_parts())"
   ]
  },
  {
   "cell_type": "code",
   "execution_count": 6,
   "metadata": {},
   "outputs": [
    {
     "data": {
      "text/plain": [
       "[[Equal]A(888_a_1),A(588_a_1),\n",
       " [Delete]A(882_b_1),\n",
       " [Insert]A(581_b_2),\n",
       " [Equal]A(885_c_1),A(589_c_1)]"
      ]
     },
     "execution_count": 6,
     "metadata": {},
     "output_type": "execute_result"
    }
   ],
   "source": [
    "m1 = [B(888,'a',1), B(882,'b',1), B(885,'c',1)]\n",
    "m2 = [B(588,'a',1), B(581,'b',2), B(589,'c',1)]\n",
    "result = list(gdifflib.Differ().compare(m1, m2))\n",
    "result"
   ]
  },
  {
   "cell_type": "markdown",
   "metadata": {},
   "source": [
    "## On Result type"
   ]
  },
  {
   "cell_type": "code",
   "execution_count": 7,
   "metadata": {},
   "outputs": [
    {
     "data": {
      "text/plain": [
       "gdifflib.Result"
      ]
     },
     "execution_count": 7,
     "metadata": {},
     "output_type": "execute_result"
    }
   ],
   "source": [
    "type(result[0])"
   ]
  },
  {
   "cell_type": "code",
   "execution_count": 8,
   "metadata": {},
   "outputs": [
    {
     "data": {
      "text/plain": [
       "['edit_op', 'first', 'second']"
      ]
     },
     "execution_count": 8,
     "metadata": {},
     "output_type": "execute_result"
    }
   ],
   "source": [
    "attribute_names = [attribute_name for attribute_name in dir(result[0])\n",
    "                   if not attribute_name.startswith('__')]\n",
    "attribute_names"
   ]
  },
  {
   "cell_type": "code",
   "execution_count": 9,
   "metadata": {},
   "outputs": [
    {
     "data": {
      "text/plain": [
       "['edit_op', 'first', 'second']"
      ]
     },
     "execution_count": 9,
     "metadata": {},
     "output_type": "execute_result"
    }
   ],
   "source": [
    "gdifflib.Result.__slot__"
   ]
  },
  {
   "cell_type": "code",
   "execution_count": 10,
   "metadata": {},
   "outputs": [
    {
     "data": {
      "text/plain": [
       "{'edit_op': Equal, 'first': A(888_a_1), 'second': A(588_a_1)}"
      ]
     },
     "execution_count": 10,
     "metadata": {},
     "output_type": "execute_result"
    }
   ],
   "source": [
    "{attribute_name: getattr(result[0], attribute_name) for attribute_name in attribute_names}"
   ]
  },
  {
   "cell_type": "code",
   "execution_count": 11,
   "metadata": {},
   "outputs": [
    {
     "data": {
      "text/plain": [
       "{'edit_op': Delete, 'first': A(882_b_1), 'second': None}"
      ]
     },
     "execution_count": 11,
     "metadata": {},
     "output_type": "execute_result"
    }
   ],
   "source": [
    "{attribute_name: getattr(result[1], attribute_name) for attribute_name in attribute_names}"
   ]
  },
  {
   "cell_type": "code",
   "execution_count": 12,
   "metadata": {},
   "outputs": [
    {
     "data": {
      "text/plain": [
       "{'edit_op': Insert, 'first': None, 'second': A(581_b_2)}"
      ]
     },
     "execution_count": 12,
     "metadata": {},
     "output_type": "execute_result"
    }
   ],
   "source": [
    "{attribute_name: getattr(result[2], attribute_name) for attribute_name in attribute_names}"
   ]
  },
  {
   "cell_type": "code",
   "execution_count": null,
   "metadata": {},
   "outputs": [],
   "source": []
  }
 ],
 "metadata": {
  "kernelspec": {
   "display_name": "Python 3",
   "language": "python",
   "name": "python3"
  },
  "language_info": {
   "codemirror_mode": {
    "name": "ipython",
    "version": 3
   },
   "file_extension": ".py",
   "mimetype": "text/x-python",
   "name": "python",
   "nbconvert_exporter": "python",
   "pygments_lexer": "ipython3",
   "version": "3.7.6"
  }
 },
 "nbformat": 4,
 "nbformat_minor": 2
}
